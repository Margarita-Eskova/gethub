{
  "nbformat": 4,
  "nbformat_minor": 0,
  "metadata": {
    "colab": {
      "provenance": [],
      "authorship_tag": "ABX9TyMjpkOyLxh/XJCZLx2WJ/yo",
      "include_colab_link": true
    },
    "kernelspec": {
      "name": "python3",
      "display_name": "Python 3"
    },
    "language_info": {
      "name": "python"
    }
  },
  "cells": [
    {
      "cell_type": "markdown",
      "metadata": {
        "id": "view-in-github",
        "colab_type": "text"
      },
      "source": [
        "<a href=\"https://colab.research.google.com/github/Margarita-Eskova/gethub/blob/master/%D0%9B%D0%B0%D0%B1%D0%BE%D1%80%D0%B0%D1%82%D0%BE%D1%80%D0%BD%D0%B0%D1%8F_2.ipynb\" target=\"_parent\"><img src=\"https://colab.research.google.com/assets/colab-badge.svg\" alt=\"Open In Colab\"/></a>"
      ]
    },
    {
      "cell_type": "markdown",
      "source": [
        "**Условный оператор**"
      ],
      "metadata": {
        "id": "CPcPQW5GXyQm"
      }
    },
    {
      "cell_type": "markdown",
      "source": [
        "№ 2.1"
      ],
      "metadata": {
        "id": "qtlbqW_pTuPZ"
      }
    },
    {
      "cell_type": "code",
      "source": [
        "# Выполнила: Еськова Маргарита Ивановна\n",
        "# Группа: ЦИБ-241\n",
        "# Рассчитать значение f при заданном значении вещественного числа x. При выводе на экран оставьте 2 знака после запятой.\n",
        "\n",
        "x = int(input(\"Введите число x: \"))\n",
        "\n",
        "if x >= 0:\n",
        "    f=x**(1/2)+x**2\n",
        "else:\n",
        "    f=1/x\n",
        "\n",
        "print(round(f, 2))"
      ],
      "metadata": {
        "colab": {
          "base_uri": "https://localhost:8080/"
        },
        "id": "WzvKRDTWWA8f",
        "outputId": "36f527ba-b24d-4293-d58b-a32fd32ab93e"
      },
      "execution_count": null,
      "outputs": [
        {
          "output_type": "stream",
          "name": "stdout",
          "text": [
            "Введите число x: 10\n",
            "103.16\n"
          ]
        }
      ]
    },
    {
      "cell_type": "markdown",
      "source": [
        "№ 2.2"
      ],
      "metadata": {
        "id": "bKtlHKN2X7Bo"
      }
    },
    {
      "cell_type": "code",
      "source": [
        "# Выполнила: Еськова Маргарита Ивановна\n",
        "# Группа: ЦИБ-241\n",
        "#Определите максимальное и минимальное значения из двух различных целых чисел.\n",
        "\n",
        "a1=int(input(\"Введите первое число: \"))\n",
        "a2=int(input(\"Введите второе число: \"))\n",
        "\n",
        "a_max=max(a1, a2)\n",
        "a_min=min(a1, a2)\n",
        "\n",
        "print(\"Максимум:\", a_max, \"Минимум:\", a_min)\n"
      ],
      "metadata": {
        "colab": {
          "base_uri": "https://localhost:8080/"
        },
        "id": "-tcyYMO6X-D4",
        "outputId": "6143afa9-257b-447e-e549-269807a16501"
      },
      "execution_count": null,
      "outputs": [
        {
          "output_type": "stream",
          "name": "stdout",
          "text": [
            "Введите первое число: 40\n",
            "Введите второе число: 67\n",
            "Максимум: 67 Минимум: 40\n"
          ]
        }
      ]
    },
    {
      "cell_type": "markdown",
      "source": [
        "№ 2.3"
      ],
      "metadata": {
        "id": "44BRZ_wTduUY"
      }
    },
    {
      "cell_type": "code",
      "source": [
        "# Выполнила: Еськова Маргарита Ивановна\n",
        "# Группа: ЦИБ-241\n",
        "# Вася пытается высунуть голову в форточку размерами a и b см. Приняв условно, что его голова - круглая диаметром d см, определите, сможет ли Вася сделать это.\n",
        "# Для прохождения головы в форточку необходим зазор в 1 см. с каждой стороны. Все величины - целые числа.\n",
        "\n",
        "a=int(input(\"Ширина форточки: \"))\n",
        "b=int(input(\"Высота форточки: \"))\n",
        "d=int(input(\"Диаметр головы: \"))\n",
        "\n",
        "if a<0 and b<0 and d<0:\n",
        "  print(\"Проверьте ввод\")\n",
        "else:\n",
        "  if d<=a-2 and d<=b-2:\n",
        "    print(\"Да, сможет\")\n",
        "  else:\n",
        "    print(\"Нет, не сможет\")\n"
      ],
      "metadata": {
        "colab": {
          "base_uri": "https://localhost:8080/"
        },
        "id": "_1fTTSeJdw3j",
        "outputId": "bcf68698-732e-4abe-d435-db4eb9a78a04"
      },
      "execution_count": null,
      "outputs": [
        {
          "output_type": "stream",
          "name": "stdout",
          "text": [
            "Ширина форточки: 5\n",
            "Высота форточки: 6\n",
            "Диаметр головы: 6\n",
            "Нет, не сможет\n"
          ]
        }
      ]
    },
    {
      "cell_type": "markdown",
      "source": [
        "№ 2.4"
      ],
      "metadata": {
        "id": "oJfrWHX4lTxZ"
      }
    },
    {
      "cell_type": "code",
      "source": [
        "# Выполнила: Еськова Маргарита Ивановна\n",
        "# Группа: ЦИБ-241\n",
        "# Известны год и номер месяца сегодняшнего дня, а также год и номер месяца рождения человека (нумерация месяцев с 1: январь - 1 и т.д.). Определите возраст\n",
        "# человека (число полных лет).\n",
        "\n",
        "year_today=int(input(\"Введите текущий год: \"))\n",
        "month_today=int(input(\"Введите текущий месяц: \"))\n",
        "year=int(input(\"Введите год рождения: \"))\n",
        "month=int(input(\"Введите месяц рождения: \"))\n",
        "\n",
        "if month_today>12 and month_today<=0 and month>12 and month<=0:\n",
        "  print(\"Проверьте ввод\")\n",
        "else:\n",
        "  if year_today<year:\n",
        "    print(\"Проверьте ввод\")\n",
        "  else:\n",
        "    if month_today >= month:\n",
        "      age=year_today-year\n",
        "    else:\n",
        "      age=year_today-year-1\n",
        "\n",
        "print(\"Число полных лет: \", age)"
      ],
      "metadata": {
        "colab": {
          "base_uri": "https://localhost:8080/"
        },
        "id": "DPhlp2o3lX1W",
        "outputId": "be1cd5f4-0ed9-40b4-c942-14be9af7709d"
      },
      "execution_count": null,
      "outputs": [
        {
          "output_type": "stream",
          "name": "stdout",
          "text": [
            "Введите текущий год: 2015\n",
            "Введите текущий месяц: 6\n",
            "Введите год рождения: 2010\n",
            "Введите месяц рождения: 8\n",
            "Число полных лет:  4\n"
          ]
        }
      ]
    },
    {
      "cell_type": "markdown",
      "source": [
        "№ 2.5"
      ],
      "metadata": {
        "id": "A_RQD8roS7Io"
      }
    },
    {
      "cell_type": "code",
      "source": [
        "# Выполнила: Еськова Маргарита Ивановна\n",
        "# Группа: ЦИБ-241\n",
        "# Дана точка с целыми ненулевыми координатами (x;y). Определить номер четверти координатной плоскости, которой она принадлежит.\n",
        "\n",
        "x=int(input(\"Введите координату x: \"))\n",
        "y=int(input(\"Введите координату y: \"))\n",
        "\n",
        "if x==0 or y==0:\n",
        "  print(\"Проверьте ввод\")\n",
        "if x>0 and y>0:\n",
        "  print(\"1-я четверть\")\n",
        "if x<0 and y>0:\n",
        "  print(\"2-я четверть\")\n",
        "if x<0 and y<0:\n",
        "  print(\"3-я четверть\")\n",
        "if x>0 and y<0:\n",
        "  print(\"4-я четверть\")\n",
        "\n",
        "\n",
        "\n"
      ],
      "metadata": {
        "colab": {
          "base_uri": "https://localhost:8080/"
        },
        "id": "HRqOQqGYS95X",
        "outputId": "ecabfdb0-2159-4e8a-a0e0-e8d12815448f"
      },
      "execution_count": null,
      "outputs": [
        {
          "output_type": "stream",
          "name": "stdout",
          "text": [
            "Введите координату x: 5\n",
            "Введите координату y: 7\n",
            "1-я четверть\n"
          ]
        }
      ]
    },
    {
      "cell_type": "markdown",
      "source": [
        "№ 2.6"
      ],
      "metadata": {
        "id": "eYsnQkD8Xugk"
      }
    },
    {
      "cell_type": "code",
      "source": [
        "# Выполнила: Еськова Маргарита Ивановна\n",
        "# Группа: ЦИБ-241\n",
        "# Даны вещественные числа a, b, c (a≠0). Решите уравнение ax2+bx+c=0. При выводе значений оставьте 1 знак после запятой.\n",
        "\n",
        "a=float(input(\"a = \"))\n",
        "b=float(input(\"b = \"))\n",
        "c=float(input(\"c = \"))\n",
        "\n",
        "if a==0:\n",
        "  print(\"Проверьте ввод\")\n",
        "else:\n",
        "  D=b**2-(4*a*c)\n",
        "  if D>0:\n",
        "    x1=(-b+D**(1/2))/(2*a)\n",
        "    x2=(-b-D**(1/2))/(2*a)\n",
        "    print(\"x1 =\", round(x1, 1), \"x2 =\", round(x2, 1))\n",
        "  if D==0:\n",
        "    x=(-b)/(2*a)\n",
        "    print(\"x =\", round(x, 1))\n",
        "  if D<0:\n",
        "    print(\"Решений нет\")"
      ],
      "metadata": {
        "colab": {
          "base_uri": "https://localhost:8080/"
        },
        "id": "tV3r8mReVm6P",
        "outputId": "bc6d6fac-96f6-46ab-fc67-f70b1d3c89ea"
      },
      "execution_count": null,
      "outputs": [
        {
          "output_type": "stream",
          "name": "stdout",
          "text": [
            "a = 1\n",
            "b = 3\n",
            "c = -4\n",
            "x1 = 1.0 x2 = -4.0\n"
          ]
        }
      ]
    },
    {
      "cell_type": "markdown",
      "source": [
        "**Цикл с условием**"
      ],
      "metadata": {
        "id": "izztW802eQhN"
      }
    },
    {
      "cell_type": "markdown",
      "source": [
        "№ 2.7"
      ],
      "metadata": {
        "id": "UufBtVU8edpA"
      }
    },
    {
      "cell_type": "code",
      "source": [
        "# Выполнила: Еськова Маргарита Ивановна\n",
        "# Группа: ЦИБ-241\n",
        "# Дана непустая последовательность целых чисел, оканчивающаяся нулем. Найти сумму и количество введенных чисел.\n",
        "\n",
        "nums_sum=0\n",
        "nums_count=0\n",
        "\n",
        "x=int(input(\"Введите число (0 для завершения): \"))\n",
        "while x!=0:\n",
        "    nums_sum+=x\n",
        "    nums_count+=1\n",
        "    x=int(input(\"Введите число (0 для завершения): \"))\n",
        "\n",
        "print(\"Сумма введённых чисел:\", nums_sum)\n",
        "print(\"Количество введённых чисел:\", nums_count)"
      ],
      "metadata": {
        "colab": {
          "base_uri": "https://localhost:8080/"
        },
        "id": "N9eLRLM0ef2p",
        "outputId": "9bbabbb9-dac0-46d8-d056-77348f3a47bd"
      },
      "execution_count": null,
      "outputs": [
        {
          "output_type": "stream",
          "name": "stdout",
          "text": [
            "Введите число (0 для завершения): 4\n",
            "Введите число (0 для завершения): 1\n",
            "Введите число (0 для завершения): 90\n",
            "Введите число (0 для завершения): 0\n",
            "Сумма введённых чисел: 95\n",
            "Количество введённых чисел: 3\n"
          ]
        }
      ]
    },
    {
      "cell_type": "markdown",
      "source": [
        "№ 2.8"
      ],
      "metadata": {
        "id": "OZVbxyoF82tn"
      }
    },
    {
      "cell_type": "code",
      "source": [
        "# Выполнила: Еськова Маргарита Ивановна\n",
        "# Группа: ЦИБ-241\n",
        "# Дано число n. Из чисел 0,5,10,15,20,25,... напечатать те, которые не превышают n.\n",
        "\n",
        "n=int(input(\"n = \"))\n",
        "i=0\n",
        "while i<=n:\n",
        "    i+=5\n",
        "    print(i)\n"
      ],
      "metadata": {
        "colab": {
          "base_uri": "https://localhost:8080/"
        },
        "id": "OLn9iRr_864k",
        "outputId": "af61deee-576f-4790-c62a-3451c603c53a"
      },
      "execution_count": null,
      "outputs": [
        {
          "output_type": "stream",
          "name": "stdout",
          "text": [
            "n = 10\n",
            "5\n",
            "10\n",
            "15\n"
          ]
        }
      ]
    },
    {
      "cell_type": "markdown",
      "source": [
        "№ 2.9"
      ],
      "metadata": {
        "id": "jnyRoYnR_g3s"
      }
    },
    {
      "cell_type": "code",
      "source": [
        "# Выполнила: Еськова Маргарита Ивановна\n",
        "# Группа: ЦИБ-241\n",
        "# Дано вещественное число a. Найдите наименьшее натуральное n, для которого верно.\n",
        "\n",
        "a=float(input(\"Введите вещественное число a: \"))\n",
        "x_sum=0\n",
        "n=0\n",
        "\n",
        "while x_sum<=a:\n",
        "    n+=1\n",
        "    x_sum+=1/n\n",
        "\n",
        "print(\"Наименьшее натуральное n:\", n)"
      ],
      "metadata": {
        "colab": {
          "base_uri": "https://localhost:8080/"
        },
        "id": "_aUiKxiE_nQ0",
        "outputId": "1c8b40bd-1ef2-4eda-85f5-ccac4d42deec"
      },
      "execution_count": null,
      "outputs": [
        {
          "output_type": "stream",
          "name": "stdout",
          "text": [
            "Введите вещественное число a: 1.5\n",
            "Наименьшее натуральное n: 3\n"
          ]
        }
      ]
    },
    {
      "cell_type": "markdown",
      "source": [
        "№ 2.10"
      ],
      "metadata": {
        "id": "G9IgX3WiGSig"
      }
    },
    {
      "cell_type": "code",
      "source": [
        "# Выполнила: Еськова Маргарита Ивановна\n",
        "# Группа: ЦИБ-241\n",
        "# Дано натуральное число. Определите сумму и количество его цифр.\n",
        "\n",
        "n=int(input(\"n = \"))\n",
        "\n",
        "n_sum=0\n",
        "n_count=0\n",
        "\n",
        "while n>0:\n",
        "    a=n%10\n",
        "    n_sum+=a\n",
        "    n_count+=1\n",
        "    n//=10\n",
        "\n",
        "print(\"Сумма цифр:\", n_sum)\n",
        "print(\"Количество цифр:\", n_count)"
      ],
      "metadata": {
        "colab": {
          "base_uri": "https://localhost:8080/"
        },
        "id": "k5pdeNEJGWSN",
        "outputId": "f805b7f5-3250-4f95-fb11-aff737068339"
      },
      "execution_count": null,
      "outputs": [
        {
          "output_type": "stream",
          "name": "stdout",
          "text": [
            "n = 12345\n",
            "Сумма цифр: 15\n",
            "Количество цифр: 5\n"
          ]
        }
      ]
    },
    {
      "cell_type": "markdown",
      "source": [
        "**Совместный цикл (цикл по коллекциям)**"
      ],
      "metadata": {
        "id": "tp6aSzBEhcce"
      }
    },
    {
      "cell_type": "markdown",
      "source": [
        "№ 2.12"
      ],
      "metadata": {
        "id": "4_9QwMU7hojm"
      }
    },
    {
      "cell_type": "code",
      "source": [
        "# Выполнила: Еськова Маргарита Ивановна\n",
        "# Группа: ЦИБ-241\n",
        "# Даны целые числа a и b (a может быть больше b). Напечатайте:\n",
        "# числа от минимального до максимального в строчку (разделяя пробелом);\n",
        "# числа от максимального до минимального «столбиком».\n",
        "\n",
        "a=int(input(\"a = \"))\n",
        "b=int(input(\"b = \"))\n",
        "\n",
        "min_ab=min(a, b)\n",
        "max_ab=max(a, b)\n",
        "\n",
        "print(\" \".join(map(str, range(min_ab, max_ab + 1))))\n",
        "\n",
        "for n in range(max_ab, min_ab - 1, -1):\n",
        "    print(n)"
      ],
      "metadata": {
        "colab": {
          "base_uri": "https://localhost:8080/"
        },
        "id": "U2JFeHc5hrxa",
        "outputId": "d14b6fae-018d-4839-9049-03e6cdfff930"
      },
      "execution_count": null,
      "outputs": [
        {
          "output_type": "stream",
          "name": "stdout",
          "text": [
            "a = 1\n",
            "b = 5\n",
            "1 2 3 4 5\n",
            "5\n",
            "4\n",
            "3\n",
            "2\n",
            "1\n"
          ]
        }
      ]
    },
    {
      "cell_type": "markdown",
      "source": [
        "№ 2.13"
      ],
      "metadata": {
        "id": "UoKPQ3JfcoMp"
      }
    },
    {
      "cell_type": "code",
      "source": [
        "# Выполнила: Еськова Маргарита Ивановна\n",
        "# Группа: ЦИБ-241\n",
        "# Для введенных с клавиатуры положительных целых чисел a и b (a≤b) определите:\n",
        "# сумму всех целых чисел от a до b;\n",
        "# произведение всех целых чисел от a до b;\n",
        "# среднее арифметическое всех целых чисел от a до b;\n",
        "# среднее геометрическое нечетных чисел от a до b.\n",
        "\n",
        "a=int(input(\"a = \"))\n",
        "b=int(input(\"b = \"))\n",
        "n=range(a, b+1)\n",
        "sum=0\n",
        "proud=1\n",
        "pr=1\n",
        "nechot_n=n[::2]\n",
        "\n",
        "if a>0 and b>0 and a<=b :\n",
        "  for i in n:\n",
        "    sum+=i\n",
        "    proud=proud*i\n",
        "  n=list(range(a, b+1))\n",
        "  sr_ar=round((sum / len(n)), 2)\n",
        "  for i in nechot_n:\n",
        "    pr=pr*i\n",
        "    sr_geom=round(pr**(1/len(nechot_n)), 2)\n",
        "  print(f\"Сумма = {sum}\")\n",
        "  print(f\"Произедение = {proud}\")\n",
        "  print(f\"Среднее арифметическое = {sr_ar}\")\n",
        "  print(f\"Среднее геометрическое нечетных чисел = {sr_geom}\")\n"
      ],
      "metadata": {
        "colab": {
          "base_uri": "https://localhost:8080/"
        },
        "id": "IvEWLy9uf8C4",
        "outputId": "fbaee49f-628d-4ccb-b437-b62d8643b3e9"
      },
      "execution_count": null,
      "outputs": [
        {
          "output_type": "stream",
          "name": "stdout",
          "text": [
            "a = 1\n",
            "b = 5\n",
            "Сумма = 15\n",
            "Произедение = 120\n",
            "Среднее арифметическое = 3.0\n",
            "Среднее геометрическое нечетных чисел = 2.47\n"
          ]
        }
      ]
    },
    {
      "cell_type": "markdown",
      "source": [
        "№ 2.14"
      ],
      "metadata": {
        "id": "hAeO4gv_GW5H"
      }
    },
    {
      "cell_type": "code",
      "source": [
        "# Выполнила: Еськова Маргарита Ивановна\n",
        "# Группа: ЦИБ-241\n",
        "# Начав тренировки, лыжник в первый день пробежал s км. (s>0, вещественное число). Каждый следующий день он увеличивал пробег на p % (0<p≤100, вещественное число)\n",
        "# от пробега предыдущего дня. Определите:\n",
        "# пробег лыжника за второй, третий, …, десятый день тренировок;\n",
        "# какой суммарный путь он пробежал за первые 10 дней тренировок.\n",
        "# При выводе вещественных результатов оставьте один знак после запятой.\n",
        "\n",
        "s=int(input(\"Пробег за 1-й день (км.) = \"))\n",
        "p=int(input(\"На сколько увеличивает пробег (%) = \"))\n",
        "d=1\n",
        "print(f\"Пробег за {d}-й день (км.) = {s}\")\n",
        "print(f\"На сколько увеличивает пробег (%) = {p}\")\n",
        "total=s\n",
        "\n",
        "for t in range(2, 11):\n",
        "    d+=1\n",
        "    s=round((s+(s/100)*p), 1)\n",
        "    total+=s\n",
        "    print(f\"Пробег за {d}-й день: {s} км.\")\n",
        "total=round(total, 1)\n",
        "print(f\"Суммарный пробег: {total} км.\")"
      ],
      "metadata": {
        "id": "CAiWBQlcGcQf",
        "colab": {
          "base_uri": "https://localhost:8080/"
        },
        "outputId": "14b961af-ee9d-4276-e8ff-d0cd8ebb7db8"
      },
      "execution_count": null,
      "outputs": [
        {
          "output_type": "stream",
          "name": "stdout",
          "text": [
            "Пробег за 1-й день (км.) = 5\n",
            "На сколько увеличивает пробег (%) = 10\n",
            "Пробег за 1-й день (км.) = 5\n",
            "На сколько увеличивает пробег (%) = 10\n",
            "Пробег за 2-й день: 5.5 км.\n",
            "Пробег за 3-й день: 6.0 км.\n",
            "Пробег за 4-й день: 6.6 км.\n",
            "Пробег за 5-й день: 7.3 км.\n",
            "Пробег за 6-й день: 8.0 км.\n",
            "Пробег за 7-й день: 8.8 км.\n",
            "Пробег за 8-й день: 9.7 км.\n",
            "Пробег за 9-й день: 10.7 км.\n",
            "Пробег за 10-й день: 11.8 км.\n",
            "Суммарный пробег: 79.4 км.\n"
          ]
        }
      ]
    },
    {
      "cell_type": "markdown",
      "source": [
        "№ 2.16"
      ],
      "metadata": {
        "id": "G6K_53hP0Xs2"
      }
    },
    {
      "cell_type": "code",
      "source": [
        "# Выполнила: Еськова Маргарита Ивановна\n",
        "# Группа: ЦИБ-241\n",
        "# В области несколько районов. Заданы площади, засеваемые пшеницей (га.), и средняя урожайность (ц/га) в каждом районе.\n",
        "# Определите количество пшеницы, собранное по области. При выводе вещественных результатов оставьте один знак после запятой.\n",
        "\n",
        "n=int(input(\"Kоличество районов = \"))\n",
        "r=1\n",
        "P=[]\n",
        "U=[]\n",
        "while r<=n:\n",
        "    p=float(input(f\"Площадь {r}-го района (га) = \"))\n",
        "    P.append(p)\n",
        "    u=float(input(f\"Урожайность {r}-го района (га) = \"))\n",
        "    U.append(u)\n",
        "    r+=1\n",
        "T=round(((P[0] * U[0]) + (P[1] * U[1]) + (P[2]* U[2])), 1)\n",
        "print(f\"Собрано пшеницы: {T} ц.\")"
      ],
      "metadata": {
        "colab": {
          "base_uri": "https://localhost:8080/"
        },
        "id": "Sea38iMw0bPG",
        "outputId": "71427c53-8b6c-408b-9244-ae400bfc5008"
      },
      "execution_count": null,
      "outputs": [
        {
          "output_type": "stream",
          "name": "stdout",
          "text": [
            "Kоличество районов = 3\n",
            "Площадь 1-го района (га) = 4\n",
            "Урожайность 1-го района (га) = 2\n",
            "Площадь 2-го района (га) = 7\n",
            "Урожайность 2-го района (га) = 3\n",
            "Площадь 3-го района (га) = 9\n",
            "Урожайность 3-го района (га) = 4\n",
            "Собрано пшеницы: 65.0 ц.\n"
          ]
        }
      ]
    },
    {
      "cell_type": "markdown",
      "source": [
        "**Прерывание и продолжение циклов**"
      ],
      "metadata": {
        "id": "1tCPV41x16ye"
      }
    },
    {
      "cell_type": "markdown",
      "source": [
        "№ 2.17"
      ],
      "metadata": {
        "id": "J17H0P6P07cm"
      }
    },
    {
      "cell_type": "code",
      "source": [
        "# Выполнила: Еськова Маргарита Ивановна\n",
        "# Группа: ЦИБ-241\n",
        "# Решите задачу № 2.7, организовав бесконечный цикл, который бы прерывался при выполнении условия, используя оператор break.\n",
        "\n",
        "n=2\n",
        "num=int(input(f\"Введите 1-е число: \"))\n",
        "nums_sum=0\n",
        "nums_count=0\n",
        "\n",
        "while num!=0:\n",
        "    num=int(input(f\"Введите {n}-е число: \"))\n",
        "    n+=1\n",
        "    nums_sum+=num\n",
        "    nums_count+=1\n",
        "    if num==0:\n",
        "        break\n",
        "\n",
        "print(f\"Сумма = {nums_sum}\")\n",
        "print(f\"Количество = {nums_count}\")"
      ],
      "metadata": {
        "colab": {
          "base_uri": "https://localhost:8080/"
        },
        "id": "m4zpVaoL0_Xl",
        "outputId": "2e24e4c1-3f15-41f7-8c87-d7e6b29cda1e"
      },
      "execution_count": null,
      "outputs": [
        {
          "output_type": "stream",
          "name": "stdout",
          "text": [
            "Введите 1-е число: 2\n",
            "Введите 2-е число: 5\n",
            "Введите 3-е число: 1\n",
            "Введите 4-е число: 4\n",
            "Введите 5-е число: 0\n",
            "Сумма = 10\n",
            "Количество = 4\n"
          ]
        }
      ]
    },
    {
      "cell_type": "markdown",
      "source": [
        "№ 2.18"
      ],
      "metadata": {
        "id": "QYUvHQXI1xbe"
      }
    },
    {
      "cell_type": "code",
      "source": [
        "# Выполнила: Еськова Маргарита Ивановна\n",
        "# Группа: ЦИБ-241\n",
        "# Предложение, введенное с клавиатуры, содержит слова из гласных и согласных букв кириллицы (регистр может быть различный), а также пробелы.\n",
        "# Определите количество гласных и согласных букв в предложении. Для пропуска пробелов используйте оператор continue.\n",
        "\n",
        "sentence=input(\"Введите предложение: \")\n",
        "sentence=[]\n",
        "gl='АаЕеЁёИиОоУуЫыЭэЮюЯя'\n",
        "sogl='БбВвГгДдЖжЗзЙйКкЛлМмНнПпРрСсТтФфХхЦцЧчШшЩщЪъЬь'\n",
        "for i in sentence:\n",
        "    if i==gl:\n",
        "        count_gl=len(i)\n",
        "    elif i==\" \":\n",
        "        continue\n",
        "    else:\n",
        "        count_sogl=len(i)\n",
        "    print(f\"Кол-во букв в предложении: гласных - {count_gl}, согласных - {count_sogl}\")\n"
      ],
      "metadata": {
        "colab": {
          "base_uri": "https://localhost:8080/"
        },
        "id": "U8aucLAM10Wm",
        "outputId": "5ca82de8-58a7-4598-bddd-812d5bda2e20"
      },
      "execution_count": null,
      "outputs": [
        {
          "name": "stdout",
          "output_type": "stream",
          "text": [
            "Введите предложение: Программирование\n"
          ]
        }
      ]
    },
    {
      "cell_type": "markdown",
      "source": [
        "**Комбинация циклов и условий**"
      ],
      "metadata": {
        "id": "RqfbQNnJ5L9m"
      }
    },
    {
      "cell_type": "markdown",
      "source": [
        "№ 2.19"
      ],
      "metadata": {
        "id": "BZo8lnPP2meu"
      }
    },
    {
      "cell_type": "code",
      "source": [
        "# Выполнила: Еськова Маргарита Ивановна\n",
        "# Группа: ЦИБ-241\n",
        "# Выведите на экран (в строку) все целые числа от a до b, кратные некоторому числу c.\n",
        "\n",
        "a = int(input(\"a = \"))\n",
        "b = int(input(\"b = \"))\n",
        "c = int(input(\"c = \"))\n",
        "\n",
        "for i in range(a, b+1):\n",
        "    if (i % c == 0) and (i // i == 1):\n",
        "        print(i, end=' ')\n"
      ],
      "metadata": {
        "colab": {
          "base_uri": "https://localhost:8080/"
        },
        "id": "Lp81QPu23VHX",
        "outputId": "bfc6e549-3ca1-435f-9160-89c3c3e16f49"
      },
      "execution_count": null,
      "outputs": [
        {
          "output_type": "stream",
          "name": "stdout",
          "text": [
            "a = 1\n",
            "b = 10\n",
            "c = 2\n",
            "2 4 6 8 10 "
          ]
        }
      ]
    },
    {
      "cell_type": "markdown",
      "source": [
        "№ 2.20"
      ],
      "metadata": {
        "id": "2r-Lr_pu31e2"
      }
    },
    {
      "cell_type": "code",
      "source": [
        "# Выполнила: Еськова Маргарита Ивановна\n",
        "# Группа: ЦИБ-241\n",
        "# Выведите на экран (в строку) все трехзначные натуральные числа, сумма цифр которых равна целому числу n (0<n≤27).\n",
        "\n",
        "n=int(input(\"n = \"))\n",
        "\n",
        "for i in range(100, 1000):\n",
        "    o=i//100\n",
        "    t=(i//10)%10\n",
        "    th=i%10\n",
        "    if o+t+th==n:\n",
        "        print(i, end=' ')\n",
        "    elif o+t+th!=n:\n",
        "        continue"
      ],
      "metadata": {
        "colab": {
          "base_uri": "https://localhost:8080/"
        },
        "id": "r3yyoLlv34su",
        "outputId": "fc43f600-7eb4-44dd-ac48-bac6333aa9ca"
      },
      "execution_count": null,
      "outputs": [
        {
          "output_type": "stream",
          "name": "stdout",
          "text": [
            "n = 3\n",
            "102 111 120 201 210 300 "
          ]
        }
      ]
    },
    {
      "cell_type": "markdown",
      "source": [
        "№ 2.22"
      ],
      "metadata": {
        "id": "4yLUU1i-4vuu"
      }
    },
    {
      "cell_type": "code",
      "source": [
        "# Выполнила: Еськова Маргарита Ивановна\n",
        "# Группа: ЦИБ-241\n",
        "# Даны n вещественных чисел. Определите максимальное и минимальное из них. При выводе вещественных результатов оставьте два знака после запятой.\n",
        "\n",
        "n=float(input(\"n = \"))\n",
        "n_count=1\n",
        "a=list()\n",
        "a_max=None\n",
        "a_min=None\n",
        "while n_count<=n:\n",
        "  f=float(input(f\"Введите {n_count}-е число = \"))\n",
        "  a.append(f)\n",
        "  n_count+=1\n",
        "\n",
        "a_max=round(max(a), 2)\n",
        "a_min=round(min(a), 2)\n",
        "print(f\"Максимум: {a_max}\")\n",
        "print(f\"Минимум: {a_min}\")"
      ],
      "metadata": {
        "colab": {
          "base_uri": "https://localhost:8080/"
        },
        "id": "G7-rBQ8C4zKt",
        "outputId": "72718c28-6568-48b4-cb31-38bdf7ecd8a4"
      },
      "execution_count": null,
      "outputs": [
        {
          "output_type": "stream",
          "name": "stdout",
          "text": [
            "n = 4\n",
            "Введите 1-е число = 6.2\n",
            "Введите 2-е число = 3.8\n",
            "Введите 3-е число = 1.1\n",
            "Введите 4-е число = 9.66\n",
            "Максимум: 9.66\n",
            "Минимум: 1.1\n"
          ]
        }
      ]
    },
    {
      "cell_type": "markdown",
      "source": [
        "№ 2.23"
      ],
      "metadata": {
        "id": "3HxJ-OgB6qpO"
      }
    },
    {
      "cell_type": "code",
      "source": [
        "# Выполнила: Еськова Маргарита Ивановна\n",
        "# Группа: ЦИБ-241\n",
        "# Дано натуральное число n.\n",
        "# Определите, членом последовательности Фибоначчи .\n",
        "\n",
        "n=int(input('n = '))\n",
        "\n",
        "a=0\n",
        "b=1\n",
        "\n",
        "while b<n:\n",
        "    a, b=b, a + b\n",
        "\n",
        "if b==n:\n",
        "    print('Является членом последовательности Фибоначчи')\n",
        "else:\n",
        "    print('Не является членом последовательности Фибоначчи')"
      ],
      "metadata": {
        "colab": {
          "base_uri": "https://localhost:8080/"
        },
        "id": "1amzZ-aW9SMn",
        "outputId": "e06d9905-5f75-40c9-e7df-cee17aa30eae"
      },
      "execution_count": null,
      "outputs": [
        {
          "output_type": "stream",
          "name": "stdout",
          "text": [
            "n = 35\n",
            "Не является членом последовательности Фибоначчи\n"
          ]
        }
      ]
    },
    {
      "cell_type": "markdown",
      "source": [
        "№ 2.24"
      ],
      "metadata": {
        "id": "jHyFiop49f22"
      }
    },
    {
      "cell_type": "code",
      "source": [
        "# Выполнила: Еськова Маргарита Ивановна\n",
        "# Группа: ЦИБ-241\n",
        "# Дано n вещественных чисел. Определите, является ли последовательность упорядоченной по возрастанию. В случае отрицательного ответа выведите\n",
        "# порядковый номер числа, нарушающего такую упорядоченность.\n",
        "\n",
        "n=int(input(\"n = \"))\n",
        "index=-1\n",
        "prev=float(input(\"1-е число = \"))\n",
        "count=1\n",
        "for i in range(n-1):\n",
        "    count+=1\n",
        "    a=float(input(f\"{count}-е число = \"))\n",
        "    if a>prev:\n",
        "        continue\n",
        "    elif a>a:\n",
        "        index=index\n",
        "    elif a<=a:\n",
        "        index=i+2\n",
        "        break\n",
        "\n",
        "    if index==i:\n",
        "        break\n",
        "if index==-1:\n",
        "    print(\"Является\")\n",
        "elif index==i+2:\n",
        "    print(index)"
      ],
      "metadata": {
        "colab": {
          "base_uri": "https://localhost:8080/"
        },
        "id": "py6WT_VC9jaO",
        "outputId": "a1a28286-a785-45cd-ac1c-75682a719f93"
      },
      "execution_count": null,
      "outputs": [
        {
          "output_type": "stream",
          "name": "stdout",
          "text": [
            "n = 4\n",
            "1-е число = 2\n",
            "2-е число = 4.6\n",
            "3-е число = 6\n",
            "4-е число = 8.3\n",
            "Является\n"
          ]
        }
      ]
    },
    {
      "cell_type": "markdown",
      "source": [
        "№ 2.25"
      ],
      "metadata": {
        "id": "cjlB_SP2-BMH"
      }
    },
    {
      "cell_type": "code",
      "source": [
        "# Выполнила: Еськова Маргарита Ивановна\n",
        "# Группа: ЦИБ-241\n",
        "# Выведите на экран таблицу умножения на n (2<n≤9) в виде:\n",
        "# 1 х 1 = 1     1 х 2 = 2      ...   1 х n = ...\n",
        "# 2 х 1 = 2     2 х 2 = 4      ...   2 х n = ...\n",
        "# ...           ...            ...   ...\n",
        "# n х 1 = ...   n х 2 = ...    ...   n х n = ...\n",
        "\n",
        "n=int(input(\"n = \"))\n",
        "for i in range (1, n+1):\n",
        "    for j in range (1, n+1):\n",
        "        print( i, \"*\", j, \"=\", i*j, end='\\t')\n",
        "    print()"
      ],
      "metadata": {
        "colab": {
          "base_uri": "https://localhost:8080/"
        },
        "id": "HDl9gd1D-Ds2",
        "outputId": "befdb686-fc93-4d11-a9eb-ee1ab0f74aac"
      },
      "execution_count": null,
      "outputs": [
        {
          "output_type": "stream",
          "name": "stdout",
          "text": [
            "n = 5\n",
            "1 * 1 = 1\t1 * 2 = 2\t1 * 3 = 3\t1 * 4 = 4\t1 * 5 = 5\t\n",
            "2 * 1 = 2\t2 * 2 = 4\t2 * 3 = 6\t2 * 4 = 8\t2 * 5 = 10\t\n",
            "3 * 1 = 3\t3 * 2 = 6\t3 * 3 = 9\t3 * 4 = 12\t3 * 5 = 15\t\n",
            "4 * 1 = 4\t4 * 2 = 8\t4 * 3 = 12\t4 * 4 = 16\t4 * 5 = 20\t\n",
            "5 * 1 = 5\t5 * 2 = 10\t5 * 3 = 15\t5 * 4 = 20\t5 * 5 = 25\t\n"
          ]
        }
      ]
    },
    {
      "cell_type": "markdown",
      "source": [
        "№ 2.26"
      ],
      "metadata": {
        "id": "lyD9ZYep-h6O"
      }
    },
    {
      "cell_type": "code",
      "source": [
        "# Выполнила: Еськова Маргарита Ивановна\n",
        "# Группа: ЦИБ-241\n",
        "# Выведите графическое изображение делимости чисел от 1 до n (значение n вводится с клавиатуры) - в каждой строке напечатайте очередное\n",
        "# число и столько символов *, сколько делителей у этого числа.\n",
        "\n",
        "n=int(input())\n",
        "for num in range(1, n+1):\n",
        "    d=0\n",
        "    for i in range(1, num+1):\n",
        "        if num%i==0:\n",
        "            d+=1\n",
        "    print(f\"{num}{'*' * d}\")"
      ],
      "metadata": {
        "colab": {
          "base_uri": "https://localhost:8080/"
        },
        "id": "4YXWGFMP-kYI",
        "outputId": "1009b9d7-3288-4ab0-e5b2-2f398218e2ba"
      },
      "execution_count": null,
      "outputs": [
        {
          "output_type": "stream",
          "name": "stdout",
          "text": [
            "10\n",
            "1*\n",
            "2**\n",
            "3**\n",
            "4***\n",
            "5**\n",
            "6****\n",
            "7**\n",
            "8****\n",
            "9***\n",
            "10****\n"
          ]
        }
      ]
    }
  ]
}